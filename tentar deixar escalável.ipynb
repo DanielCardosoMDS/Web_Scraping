{
 "cells": [
  {
   "cell_type": "markdown",
   "id": "4e6ea311",
   "metadata": {},
   "source": [
    "### Bibliotecas"
   ]
  },
  {
   "cell_type": "code",
   "execution_count": 70,
   "id": "485ce86a",
   "metadata": {},
   "outputs": [],
   "source": [
    "from selenium import webdriver\n",
    "from selenium.webdriver.common.keys import Keys\n",
    "from selenium.webdriver.common.by import By\n",
    "from selenium.webdriver.chrome.options import Options\n",
    "import pandas as pd\n",
    "import time\n",
    "import requests\n",
    "from itertools import zip_longest\n",
    "import win32com.client as win32\n",
    "import matplotlib.pyplot as plt\n",
    "import numpy as np\n",
    "import locale\n",
    "from reportlab.pdfgen import canvas\n",
    "from reportlab.lib.pagesizes import A4"
   ]
  },
  {
   "cell_type": "markdown",
   "id": "f9dea4fe",
   "metadata": {},
   "source": [
    "### Classe do site Kabum"
   ]
  },
  {
   "cell_type": "code",
   "execution_count": 71,
   "id": "66c1a50d",
   "metadata": {
    "scrolled": true
   },
   "outputs": [],
   "source": [
    "class Kabum_Scraping():\n",
    "    def __init__(self,navegador):   \n",
    "        user_agent = 'Mozilla/5.0 (Windows NT 10.0; Win64; x64) AppleWebKit/537.36 (KHTML, like Gecko) Chrome/58.0.3029.110 Safari/537.3'\n",
    "        options = webdriver.ChromeOptions()\n",
    "        options.add_argument(f'user-agent={user_agent}')\n",
    "        options.add_argument('--disable-notifications')\n",
    "        options.add_argument('--disable-cookies')\n",
    "        self.navegador = navegador\n",
    "        self.navegador.maximize_window()\n",
    "        self.navegador.get('https://www.kabum.com.br/')\n",
    "\n",
    "\n",
    "    def iniciar(self):\n",
    "        self.raspagem_de_dados(produto,termos_banidos)\n",
    "        self.tratar_dados_coletados()\n",
    "\n",
    "\n",
    "    def raspagem_de_dados(self,produto,termos_banidos):\n",
    "        self.navegador.find_element(By.XPATH,'//*[@id=\"input-busca\"]').send_keys(produto,Keys.ENTER)\n",
    "        time.sleep(3)\n",
    "        itens = self.navegador.find_elements(By.CLASS_NAME,'productCard')\n",
    "        self.lista_produtos = []\n",
    "        for item in itens:\n",
    "            nome = item.find_element(By.CLASS_NAME,'sc-d99ca57-0').text\n",
    "            preco = item.find_element(By.CLASS_NAME, 'priceCard').text\n",
    "            link = item.find_element(By.CLASS_NAME,'sc-ff8a9791-10').get_attribute('href')\n",
    "            self.lista_produtos.append([nome,preco,link])\n",
    "\n",
    "\n",
    "    def tratar_dados_coletados(self):\n",
    "        self.lista_tratada = []\n",
    "        for item in self.lista_produtos:\n",
    "            if any(termo in item[0] for termo in termos_banidos.split()) or not all(termo in item[0] for termo in produto.split()):\n",
    "                continue\n",
    "            self.lista_tratada.append(item)\n",
    "        for item in self.lista_tratada:\n",
    "            preco= item[1].replace(' ','').replace('.','').replace(',','.').replace(\"R$\",\"\")\n",
    "            item[1] = float(preco)"
   ]
  },
  {
   "cell_type": "markdown",
   "id": "443785aa",
   "metadata": {},
   "source": [
    "### Classe do site Mercado Livre"
   ]
  },
  {
   "cell_type": "code",
   "execution_count": 72,
   "id": "05db10c9",
   "metadata": {},
   "outputs": [],
   "source": [
    "class MercadoLivre_Scraping():\n",
    "    def __init__(self,navegador):\n",
    "        self.navegador = navegador\n",
    "        self.navegador.get('https://www.mercadolivre.com.br/')\n",
    "    \n",
    "    \n",
    "    def iniciar(self):\n",
    "        self.raspagem_de_dados(produto,termos_banidos)\n",
    "        self.tratar_dados_coletados()\n",
    "    \n",
    "    \n",
    "    def raspagem_de_dados(self,produto,termos_banidos):\n",
    "        time.sleep(4)\n",
    "        self.navegador.find_element(By.XPATH,'//*[@id=\"cb1-edit\"]').send_keys(produto,Keys.ENTER)\n",
    "        itens = self.navegador.find_elements(By.CLASS_NAME,'ui-search-layout__item')\n",
    "        self.lista_produtos = []\n",
    "        for item in itens:\n",
    "            nome = item.find_element(By.CLASS_NAME,'shops__item-title').text\n",
    "            preco = item.find_element(By.CLASS_NAME, 'ui-search-price__second-line').text\n",
    "            link = item.find_element(By.CLASS_NAME,'ui-search-link').get_attribute('href')\n",
    "            self.lista_produtos.append([nome,preco,link])\n",
    "    \n",
    "    \n",
    "    def tratar_dados_coletados(self):\n",
    "        self.lista_tratada = []\n",
    "        for item in self.lista_produtos:\n",
    "            if any(termo in item[0] for termo in termos_banidos.split()) or not all(termo in item[0] for termo in produto.split()):\n",
    "                continue\n",
    "            self.lista_tratada.append(item)\n",
    "        for item in self.lista_tratada:\n",
    "            try:\n",
    "                preco = item[1][:5]    \n",
    "                item[1] = float(preco)\n",
    "            except:\n",
    "                preco = item[1][:4]    \n",
    "                item[1] = float(preco)"
   ]
  },
  {
   "cell_type": "markdown",
   "id": "1fe85ca6",
   "metadata": {},
   "source": [
    "### Classe do site Amazon"
   ]
  },
  {
   "cell_type": "code",
   "execution_count": 73,
   "id": "b3434ea1",
   "metadata": {},
   "outputs": [],
   "source": [
    "class AmazonScraping():\n",
    "    def __init__(self,navegador):\n",
    "        self.navegador = navegador\n",
    "        self.navegador.get('https://www.amazon.com.br/')\n",
    "        time.sleep(2)\n",
    "    \n",
    "    \n",
    "    def iniciar(self):\n",
    "        self.raspagem_de_dados(produto,termos_banidos)\n",
    "        self.tratar_dados_coletados()\n",
    "    \n",
    "    \n",
    "    def raspagem_de_dados(self,produto,termos_banidos):\n",
    "        self.navegador.find_element(By.XPATH,'//*[@id=\"twotabsearchtextbox\"]').send_keys(produto,Keys.ENTER)\n",
    "        time.sleep(5)\n",
    "        self.itens = navegador.find_elements(By.XPATH,'//div[@class=\"a-section a-spacing-base\"]')\n",
    "        time.sleep(3)\n",
    "        self.lista_produtos = []\n",
    "        for item in self.itens:\n",
    "            nome= item.find_element(By.CLASS_NAME,'a-text-normal').text\n",
    "            try:\n",
    "                preco= item.find_element(By.CLASS_NAME,'a-price-whole').text\n",
    "            except:\n",
    "                continue\n",
    "            link = item.find_element(By.CLASS_NAME,'a-link-normal').get_attribute('href')\n",
    "            self.lista_produtos.append([nome,preco,link])\n",
    "        \n",
    "    \n",
    "    def tratar_dados_coletados(self):\n",
    "        self.lista_tratada = []\n",
    "        for item in self.lista_produtos:\n",
    "            if any(termo in item[0] for termo in termos_banidos.split()) or not all(termo in item[0] for termo in produto.split()):\n",
    "                continue\n",
    "            self.lista_tratada.append(item)\n",
    "        for item in self.lista_tratada:\n",
    "            item[1] = str(item[1]).replace('.','')\n",
    "            item[1] = float(item[1])  "
   ]
  },
  {
   "cell_type": "markdown",
   "id": "ee36b39d",
   "metadata": {},
   "source": [
    "### Navegador e variáveis"
   ]
  },
  {
   "cell_type": "code",
   "execution_count": 74,
   "id": "df42167c",
   "metadata": {},
   "outputs": [],
   "source": [
    "user_agent = 'Mozilla/5.0 (Windows NT 10.0; Win64; x64) AppleWebKit/537.36 (KHTML, like Gecko) Chrome/58.0.3029.110 Safari/537.3'\n",
    "chrome_options = Options()\n",
    "chrome_options.add_argument('--disable-notifications')\n",
    "chrome_options.add_argument('--disable-cookies')\n",
    "chrome_options.add_argument(f'user-agent={user_agent}')\n",
    "navegador = webdriver.Chrome(options=chrome_options)\n",
    "navegador.maximize_window()\n",
    "produto = 'Samsung Galaxy S22 Ultra'\n",
    "termos_banidos = 'S23 S21 Capa Película carteira'"
   ]
  },
  {
   "cell_type": "markdown",
   "id": "6af21af2",
   "metadata": {},
   "source": [
    "### Chamando as classes"
   ]
  },
  {
   "cell_type": "code",
   "execution_count": 75,
   "id": "780fbe08",
   "metadata": {},
   "outputs": [],
   "source": [
    "kabum = Kabum_Scraping(navegador)\n",
    "kabum.iniciar()\n",
    "mercado_livre = MercadoLivre_Scraping(navegador)\n",
    "mercado_livre.iniciar()\n",
    "amazon = AmazonScraping(navegador)\n",
    "amazon.iniciar()"
   ]
  },
  {
   "cell_type": "markdown",
   "id": "2697526c",
   "metadata": {},
   "source": [
    "### Classe do envio de planilha e pdf por email"
   ]
  },
  {
   "cell_type": "code",
   "execution_count": 76,
   "id": "5537fbc5",
   "metadata": {},
   "outputs": [],
   "source": [
    "class enviar_email_com_pdf_e_excel():\n",
    "    \n",
    "    \n",
    "    def iniciar(self):\n",
    "        self.criar_df_produtos()\n",
    "        self.dados_do_grafico()\n",
    "        self.gerar_grafico()\n",
    "        self.gerar_pdf()\n",
    "        self.enviar_email()\n",
    "    \n",
    "    \n",
    "    def criar_df_produtos(self):\n",
    "        self.df_produtos = pd.DataFrame(columns=['Nome', 'Preço', 'Link'])\n",
    "        self.df_produtos = pd.concat([self.df_produtos, pd.DataFrame(kabum.lista_tratada, columns=['Nome', 'Preço', 'Link'])])\n",
    "        self.df_produtos = pd.concat([self.df_produtos, pd.DataFrame(mercado_livre.lista_tratada, columns=['Nome', 'Preço', 'Link'])])\n",
    "        self.df_produtos = pd.concat([self.df_produtos, pd.DataFrame(amazon.lista_tratada, columns=['Nome', 'Preço', 'Link'])])\n",
    "        self.df_produtos.to_excel('Produtos.xlsx',index = False)\n",
    "        \n",
    "        \n",
    "    def dados_do_grafico(self):\n",
    "        self.df_web_sraping = pd.read_excel('Produtos.xlsx')\n",
    "        self.df_kabum = self.df_web_sraping[self.df_web_sraping['Link'].str.contains('kabum')]\n",
    "        self.media_kabum = self.df_kabum['Preço'].mean()\n",
    "        self.maximo_kabum = self.df_kabum['Preço'].max()\n",
    "        self.minimo_kabum = self.df_kabum['Preço'].min()\n",
    "        self.df_mercado_livre = self.df_web_sraping[self.df_web_sraping['Link'].str.contains('mercadolivre')]\n",
    "        self.media_mercado_livre = self.df_mercado_livre ['Preço'].mean()\n",
    "        self.maximo_mercado_livre = self.df_mercado_livre ['Preço'].max()\n",
    "        self.minimo_mercado_livre = self.df_mercado_livre ['Preço'].min()\n",
    "        self.df_amazon = self.df_web_sraping[self.df_web_sraping['Link'].str.contains('amazon')]\n",
    "        self.media_amazon = self.df_amazon['Preço'].mean()\n",
    "        self.maximo_amazon = self.df_amazon['Preço'].max()\n",
    "        self.minimo_amazon = self.df_amazon['Preço'].min()\n",
    "        self.media = [self.media_kabum, self.media_mercado_livre, self.media_amazon]\n",
    "        self.maximo = [self.maximo_kabum, self.maximo_mercado_livre, self.maximo_amazon]\n",
    "        self.minimo = [self.minimo_kabum, self.minimo_mercado_livre, self.minimo_amazon]\n",
    "        \n",
    "        \n",
    "    def gerar_grafico(self):\n",
    "        plt.figure(figsize=(16, 6))\n",
    "        locale.setlocale(locale.LC_ALL, 'pt_BR.UTF-8')\n",
    "        bar_width = 0.28\n",
    "        index = np.arange(len(self.media))\n",
    "        plt.bar(index, self.media, bar_width, label='Média',color='#AF4F41')\n",
    "        plt.bar(index + bar_width, self.maximo, bar_width, label='Máximo', color='#273248')\n",
    "        plt.bar(index + 2*bar_width, self.minimo, bar_width, label='Mínimo',color='#FC7643')\n",
    "        for i, v in enumerate(self.media):\n",
    "            x = i\n",
    "            y = v + 0.4\n",
    "            plt.text(x, y, locale.currency(v, grouping=True), fontsize=12, ha='center', va='bottom')\n",
    "        for i, v in enumerate(self.maximo):\n",
    "            x = i + bar_width\n",
    "            y = v + 0.4\n",
    "            plt.text(x, y, locale.currency(v, grouping=True), fontsize=12, ha='center', va='bottom')\n",
    "        for i, v in enumerate(self.minimo):\n",
    "            x = i + 2*bar_width\n",
    "            y = v + 0.4\n",
    "            plt.text(x, y, locale.currency(v, grouping=True), fontsize=12, ha='center', va='bottom')\n",
    "        plt.xticks(index + bar_width, ['Kabum', 'Mercado Livre', 'Amazon'])\n",
    "        plt.legend()\n",
    "        plt.savefig('Gráfico.png', dpi=400, bbox_inches='tight')\n",
    "        plt.show()\n",
    "    \n",
    "    \n",
    "    def gerar_pdf(self):\n",
    "        cnv = canvas.Canvas('Relatório.pdf', pagesize=A4)\n",
    "        margin_top = 10/ 0.35277\n",
    "        margin_bottom = 30/ 0.35277\n",
    "        margin_left = 20/ 0.35277\n",
    "        margin_right = 20/ 0.35277\n",
    "        text_width = A4[0] - margin_left - margin_right\n",
    "        text_height = A4[1] - margin_top - margin_bottom\n",
    "        cnv.setFont('Helvetica-Bold', 18)\n",
    "        titulo = 'RELATÓRIO DE PREÇOS'\n",
    "        titulo_width = cnv.stringWidth(titulo)\n",
    "        cnv.drawString(margin_left, A4[1] - margin_top - 30, titulo)\n",
    "        cnv.setFont('Helvetica', 12)\n",
    "        texto = 'Com base nos dados apresentados, é possível observar que o preço do celular Samsung S22 Ultra varia significativamente entre as três lojas, com preços máximos que variam de R$ 8299 a R$ 8999 e preços mínimos que variam de R$ 4299 a R$ 5499. A média de preços na Kabum é de R$ 6396,39, enquanto que no Mercado Livre e na Amazon é de R$ 6422. Portanto, pode-se dizer que os preços médios nas três lojas são semelhantes. Mas no geral, baseado nos dados, é mais vantajoso comprar pelo Mercado Livre.'\n",
    "        lines = []\n",
    "        words = texto.split(' ')\n",
    "        current_line = ''\n",
    "        for word in words:\n",
    "            if cnv.stringWidth(current_line + ' ' + word) <= text_width:\n",
    "                current_line += ' ' + word\n",
    "            else:\n",
    "                lines.append(current_line.strip())\n",
    "                current_line = word\n",
    "        lines.append(current_line.strip())\n",
    "        y = A4[1] - margin_top - 80\n",
    "        for line in lines:\n",
    "            cnv.drawString(margin_left, y, line)\n",
    "            y -= 18\n",
    "        img_width, img_height = (480, 200)  \n",
    "        cnv.drawImage('Gráfico.png', margin_left, y - img_height, width=img_width, height=img_height)\n",
    "        cnv.save()\n",
    "        \n",
    "        \n",
    "    def enviar_email(self):\n",
    "        if len(self.df_web_sraping.index) > 0:\n",
    "            outlook = win32.Dispatch('outlook.application')\n",
    "            mail = outlook.CreateItem(0)\n",
    "            mail.To = 'danielcardosomds@gmail.com'\n",
    "            mail.Subject = 'Produtos Encontrados'\n",
    "            mail.HTMLBody = f\"\"\"\n",
    "            <p>Prezado,</p>\n",
    "            <p>Encontramos alguns produtos em oferta dentro critérios desejados. Segue em anexo o relatório em PDF e a planilha em Excel.</p>\n",
    "            <p>Qualquer dúvida estou à disposição</p>\n",
    "            <p>Att.,</p>\n",
    "            \"\"\"\n",
    "            attachment_pdf = mail.Attachments.Add(r'C:\\Users\\T-Gamer\\Desktop\\python\\Projeto 2\\Web Scraping\\Relatório.pdf')\n",
    "            attachment_pdf = mail.Attachments.Add(r'C:\\Users\\T-Gamer\\Desktop\\python\\Projeto 2\\Web Scraping\\Produtos.xlsx')\n",
    "            mail.Send()\n",
    "\n",
    "        navegador.quit()  \n",
    "            "
   ]
  },
  {
   "cell_type": "code",
   "execution_count": 77,
   "id": "ffddb9ad",
   "metadata": {
    "scrolled": true
   },
   "outputs": [
    {
     "data": {
      "image/png": "[encoded data removed]",
      "text/plain": [
       "<Figure size 1152x432 with 1 Axes>"
      ]
     },
     "metadata": {
      "needs_background": "light"
     },
     "output_type": "display_data"
    }
   ],
   "source": [
    "email = enviar_email_com_pdf_e_excel()\n",
    "email.iniciar()"
   ]
  }
 ],
 "metadata": {
  "celltoolbar": "Raw Cell Format",
  "kernelspec": {
   "display_name": "Python 3 (ipykernel)",
   "language": "python",
   "name": "python3"
  },
  "language_info": {
   "codemirror_mode": {
    "name": "ipython",
    "version": 3
   },
   "file_extension": ".py",
   "mimetype": "text/x-python",
   "name": "python",
   "nbconvert_exporter": "python",
   "pygments_lexer": "ipython3",
   "version": "3.9.7"
  }
 },
 "nbformat": 4,
 "nbformat_minor": 5
}
